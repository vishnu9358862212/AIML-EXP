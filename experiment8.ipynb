{
  "nbformat": 4,
  "nbformat_minor": 0,
  "metadata": {
    "colab": {
      "provenance": [],
      "authorship_tag": "ABX9TyPKbSSGmjIilAAFBWyZLnnY",
      "include_colab_link": true
    },
    "kernelspec": {
      "name": "python3",
      "display_name": "Python 3"
    },
    "language_info": {
      "name": "python"
    }
  },
  "cells": [
    {
      "cell_type": "markdown",
      "metadata": {
        "id": "view-in-github",
        "colab_type": "text"
      },
      "source": [
        "<a href=\"https://colab.research.google.com/github/vishnu9358862212/AIML-EXP/blob/main/experiment8.ipynb\" target=\"_parent\"><img src=\"https://colab.research.google.com/assets/colab-badge.svg\" alt=\"Open In Colab\"/></a>"
      ]
    },
    {
      "cell_type": "code",
      "execution_count": 1,
      "metadata": {
        "id": "hb1tQ9lp-Wr-"
      },
      "outputs": [],
      "source": [
        "import numpy as np\n",
        "from sklearn.decomposition import PCA\n",
        "from sklearn.preprocessing import StandardScaler"
      ]
    },
    {
      "cell_type": "markdown",
      "source": [
        "Add a dataset"
      ],
      "metadata": {
        "id": "dl94liIV-xvi"
      }
    },
    {
      "cell_type": "code",
      "source": [
        "D = np.array([[1.5, 2.6],\n",
        "              [0.5, 0.7],\n",
        "              [3.2, 2.6],\n",
        "              [1.9, 2.2],\n",
        "              [2.1, 3.1],\n",
        "              [2.6, 2.7],\n",
        "              [2, 1.6],\n",
        "              [1, 1.1],\n",
        "              [1.6, 1.6],\n",
        "              [1.2, 0.9]])"
      ],
      "metadata": {
        "id": "hYpvbsa5-2bH"
      },
      "execution_count": 2,
      "outputs": []
    },
    {
      "cell_type": "markdown",
      "source": [
        "Standardize the data from in dataset\n"
      ],
      "metadata": {
        "id": "UI9tLGMh_Q4e"
      }
    },
    {
      "cell_type": "code",
      "source": [
        "scaler = StandardScaler()\n",
        "D_std = scaler.fit_transform(D)"
      ],
      "metadata": {
        "id": "7FrEsiJM_Wer"
      },
      "execution_count": 3,
      "outputs": []
    },
    {
      "cell_type": "markdown",
      "source": [
        "Initialize the PCA with number of components"
      ],
      "metadata": {
        "id": "BnmR9TTs_iqc"
      }
    },
    {
      "cell_type": "code",
      "source": [
        "pca = PCA(n_components=1)"
      ],
      "metadata": {
        "id": "9vr_ArXv_mSS"
      },
      "execution_count": 4,
      "outputs": []
    },
    {
      "cell_type": "markdown",
      "source": [
        "Fit and transform the data"
      ],
      "metadata": {
        "id": "J3EyHZhA_vxA"
      }
    },
    {
      "cell_type": "code",
      "source": [
        "D_pca = pca.fit_transform(D_std)"
      ],
      "metadata": {
        "id": "YNN86pWp_xIi"
      },
      "execution_count": 5,
      "outputs": []
    },
    {
      "cell_type": "markdown",
      "source": [
        "print the original data shape\n"
      ],
      "metadata": {
        "id": "rcsi7WbfAP5i"
      }
    },
    {
      "cell_type": "code",
      "source": [
        "print(\"Original Data Shape:\", D.shape)"
      ],
      "metadata": {
        "colab": {
          "base_uri": "https://localhost:8080/"
        },
        "id": "amFH-FuM_7gG",
        "outputId": "c4bab41f-1dea-4eeb-d135-8d44a0545596"
      },
      "execution_count": 6,
      "outputs": [
        {
          "output_type": "stream",
          "name": "stdout",
          "text": [
            "Original Data Shape: (10, 2)\n"
          ]
        }
      ]
    },
    {
      "cell_type": "markdown",
      "source": [
        "Print the reduced data shape"
      ],
      "metadata": {
        "id": "LOvMjQXZAW4E"
      }
    },
    {
      "cell_type": "code",
      "source": [
        "print(\"Reduced Data Shape:\", D_pca.shape)"
      ],
      "metadata": {
        "colab": {
          "base_uri": "https://localhost:8080/"
        },
        "id": "6hjVC0uF__j7",
        "outputId": "b5249ebd-3fda-4e02-e584-8b169936c74e"
      },
      "execution_count": 7,
      "outputs": [
        {
          "output_type": "stream",
          "name": "stdout",
          "text": [
            "Reduced Data Shape: (10, 1)\n"
          ]
        }
      ]
    },
    {
      "cell_type": "markdown",
      "source": [
        "Print the reduced data"
      ],
      "metadata": {
        "id": "R7F1LZF4AdU-"
      }
    },
    {
      "cell_type": "code",
      "source": [
        "print(\"Reduced Data:\\n\", D_pca)"
      ],
      "metadata": {
        "colab": {
          "base_uri": "https://localhost:8080/"
        },
        "id": "CQWT0_sVALVO",
        "outputId": "f06ff6bf-08ed-4ea8-88f7-ac741f7c0f81"
      },
      "execution_count": 8,
      "outputs": [
        {
          "output_type": "stream",
          "name": "stdout",
          "text": [
            "Reduced Data:\n",
            " [[ 0.36253665]\n",
            " [-2.26533386]\n",
            " [ 1.97697815]\n",
            " [ 0.38910017]\n",
            " [ 1.37397085]\n",
            " [ 1.49550153]\n",
            " [-0.04589027]\n",
            " [-1.43719306]\n",
            " [-0.42575886]\n",
            " [-1.4239113 ]]\n"
          ]
        }
      ]
    }
  ]
}