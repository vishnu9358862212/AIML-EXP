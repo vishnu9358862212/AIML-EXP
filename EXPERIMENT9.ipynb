{
  "nbformat": 4,
  "nbformat_minor": 0,
  "metadata": {
    "colab": {
      "provenance": [],
      "authorship_tag": "ABX9TyN5fFe75t52eNI2z6lWZk69",
      "include_colab_link": true
    },
    "kernelspec": {
      "name": "python3",
      "display_name": "Python 3"
    },
    "language_info": {
      "name": "python"
    }
  },
  "cells": [
    {
      "cell_type": "markdown",
      "metadata": {
        "id": "view-in-github",
        "colab_type": "text"
      },
      "source": [
        "<a href=\"https://colab.research.google.com/github/vishnu9358862212/AIML-EXP/blob/main/EXPERIMENT9.ipynb\" target=\"_parent\"><img src=\"https://colab.research.google.com/assets/colab-badge.svg\" alt=\"Open In Colab\"/></a>"
      ]
    },
    {
      "cell_type": "code",
      "execution_count": 1,
      "metadata": {
        "colab": {
          "base_uri": "https://localhost:8080/"
        },
        "id": "0mBM43Q9KYb-",
        "outputId": "c56959f0-ac90-4a6d-bc90-67ab0d5e25ed"
      },
      "outputs": [
        {
          "output_type": "stream",
          "name": "stdout",
          "text": [
            "Dataset Info:\n",
            "<class 'pandas.core.frame.DataFrame'>\n",
            "RangeIndex: 569 entries, 0 to 568\n",
            "Data columns (total 31 columns):\n",
            " #   Column                   Non-Null Count  Dtype  \n",
            "---  ------                   --------------  -----  \n",
            " 0   mean radius              569 non-null    float64\n",
            " 1   mean texture             569 non-null    float64\n",
            " 2   mean perimeter           569 non-null    float64\n",
            " 3   mean area                569 non-null    float64\n",
            " 4   mean smoothness          569 non-null    float64\n",
            " 5   mean compactness         569 non-null    float64\n",
            " 6   mean concavity           569 non-null    float64\n",
            " 7   mean concave points      569 non-null    float64\n",
            " 8   mean symmetry            569 non-null    float64\n",
            " 9   mean fractal dimension   569 non-null    float64\n",
            " 10  radius error             569 non-null    float64\n",
            " 11  texture error            569 non-null    float64\n",
            " 12  perimeter error          569 non-null    float64\n",
            " 13  area error               569 non-null    float64\n",
            " 14  smoothness error         569 non-null    float64\n",
            " 15  compactness error        569 non-null    float64\n",
            " 16  concavity error          569 non-null    float64\n",
            " 17  concave points error     569 non-null    float64\n",
            " 18  symmetry error           569 non-null    float64\n",
            " 19  fractal dimension error  569 non-null    float64\n",
            " 20  worst radius             569 non-null    float64\n",
            " 21  worst texture            569 non-null    float64\n",
            " 22  worst perimeter          569 non-null    float64\n",
            " 23  worst area               569 non-null    float64\n",
            " 24  worst smoothness         569 non-null    float64\n",
            " 25  worst compactness        569 non-null    float64\n",
            " 26  worst concavity          569 non-null    float64\n",
            " 27  worst concave points     569 non-null    float64\n",
            " 28  worst symmetry           569 non-null    float64\n",
            " 29  worst fractal dimension  569 non-null    float64\n",
            " 30  target                   569 non-null    int64  \n",
            "dtypes: float64(30), int64(1)\n",
            "memory usage: 137.9 KB\n",
            "None\n",
            "\n",
            "Class Distribution:\n",
            "target\n",
            "1    357\n",
            "0    212\n",
            "Name: count, dtype: int64\n"
          ]
        }
      ],
      "source": [
        "# Import libraries\n",
        "import pandas as pd\n",
        "import numpy as np\n",
        "from sklearn.datasets import load_breast_cancer\n",
        "\n",
        "# Load the dataset\n",
        "data = load_breast_cancer()\n",
        "df = pd.DataFrame(data.data, columns=data.feature_names)\n",
        "df['target'] = data.target\n",
        "\n",
        "# Display basic details\n",
        "print(\"Dataset Info:\")\n",
        "print(df.info())\n",
        "print(\"\\nClass Distribution:\")\n",
        "print(df['target'].value_counts())\n"
      ]
    },
    {
      "cell_type": "code",
      "source": [
        "from imblearn.over_sampling import RandomOverSampler\n",
        "\n",
        "# Apply Random Oversampling\n",
        "ros = RandomOverSampler(random_state=42)\n",
        "X_ros, y_ros = ros.fit_resample(df.iloc[:, :-1], df['target'])\n",
        "\n",
        "# Check new class distribution\n",
        "print(\"\\nClass Distribution After Oversampling:\")\n",
        "print(pd.Series(y_ros).value_counts())\n"
      ],
      "metadata": {
        "colab": {
          "base_uri": "https://localhost:8080/"
        },
        "id": "_q0UFSU-KoGq",
        "outputId": "55c72201-9958-46a1-d79c-4db0859812a6"
      },
      "execution_count": 2,
      "outputs": [
        {
          "output_type": "stream",
          "name": "stdout",
          "text": [
            "\n",
            "Class Distribution After Oversampling:\n",
            "target\n",
            "0    357\n",
            "1    357\n",
            "Name: count, dtype: int64\n"
          ]
        }
      ]
    },
    {
      "cell_type": "code",
      "source": [
        "from imblearn.under_sampling import RandomUnderSampler\n",
        "\n",
        "# Apply Random Undersampling\n",
        "rus = RandomUnderSampler(random_state=42)\n",
        "X_rus, y_rus = rus.fit_resample(df.iloc[:, :-1], df['target'])\n",
        "\n",
        "# Check new class distribution\n",
        "print(\"\\nClass Distribution After Undersampling:\")\n",
        "print(pd.Series(y_rus).value_counts())\n"
      ],
      "metadata": {
        "colab": {
          "base_uri": "https://localhost:8080/"
        },
        "id": "z6lJmwS6Ks1o",
        "outputId": "94075938-0c7f-4c99-d524-38ef0845635f"
      },
      "execution_count": 3,
      "outputs": [
        {
          "output_type": "stream",
          "name": "stdout",
          "text": [
            "\n",
            "Class Distribution After Undersampling:\n",
            "target\n",
            "0    212\n",
            "1    212\n",
            "Name: count, dtype: int64\n"
          ]
        }
      ]
    },
    {
      "cell_type": "code",
      "source": [
        "from imblearn.over_sampling import SMOTE\n",
        "\n",
        "# Apply SMOTE\n",
        "smote = SMOTE(random_state=42)\n",
        "X_smote, y_smote = smote.fit_resample(df.iloc[:, :-1], df['target'])\n",
        "\n",
        "# Check new class distribution\n",
        "print(\"\\nClass Distribution After SMOTE:\")\n",
        "print(pd.Series(y_smote).value_counts())\n"
      ],
      "metadata": {
        "colab": {
          "base_uri": "https://localhost:8080/"
        },
        "id": "S0MtcvNfKwSh",
        "outputId": "20c59ee0-778b-4efb-b266-f286424c866b"
      },
      "execution_count": 4,
      "outputs": [
        {
          "output_type": "stream",
          "name": "stdout",
          "text": [
            "\n",
            "Class Distribution After SMOTE:\n",
            "target\n",
            "0    357\n",
            "1    357\n",
            "Name: count, dtype: int64\n"
          ]
        }
      ]
    },
    {
      "cell_type": "code",
      "source": [
        "from sklearn.model_selection import train_test_split\n",
        "from sklearn.linear_model import LogisticRegression\n",
        "\n",
        "# Split the original imbalanced dataset\n",
        "X_train, X_test, y_train, y_test = train_test_split(df.iloc[:, :-1], df['target'], test_size=0.2, random_state=42)\n",
        "\n",
        "# Function to train and evaluate Logistic Regression\n",
        "from sklearn.metrics import classification_report, roc_auc_score\n",
        "\n",
        "def evaluate_model(X_train, X_test, y_train, y_test, class_weight=None):\n",
        "    model = LogisticRegression(class_weight=class_weight, random_state=42, max_iter=10000)\n",
        "    model.fit(X_train, y_train)\n",
        "    y_pred = model.predict(X_test)\n",
        "    y_proba = model.predict_proba(X_test)[:, 1]\n",
        "\n",
        "    report = classification_report(y_test, y_pred, output_dict=True)\n",
        "    auc = roc_auc_score(y_test, y_proba)\n",
        "\n",
        "    return report, auc\n"
      ],
      "metadata": {
        "id": "6UvEU-ONK0YE"
      },
      "execution_count": 11,
      "outputs": []
    },
    {
      "cell_type": "code",
      "source": [
        "# Evaluate original data\n",
        "original_report, original_auc = evaluate_model(X_train, X_test, y_train, y_test)\n",
        "\n",
        "# Evaluate Random Oversampling\n",
        "X_train_ros, y_train_ros = ros.fit_resample(X_train, y_train)\n",
        "ros_report, ros_auc = evaluate_model(X_train_ros, X_test, y_train_ros, y_test)\n",
        "\n",
        "# Evaluate Random Undersampling\n",
        "X_train_rus, y_train_rus = rus.fit_resample(X_train, y_train)\n",
        "rus_report, rus_auc = evaluate_model(X_train_rus, X_test, y_train_rus, y_test)\n",
        "\n",
        "# Evaluate SMOTE\n",
        "X_train_smote, y_train_smote = smote.fit_resample(X_train, y_train)\n",
        "smote_report, smote_auc = evaluate_model(X_train_smote, X_test, y_train_smote, y_test)\n",
        "\n",
        "# Evaluate Class Weighting\n",
        "class_weight_report, class_weight_auc = evaluate_model(X_train, X_test, y_train, y_test, class_weight=\"balanced\")\n"
      ],
      "metadata": {
        "id": "KnfpsTgVK4QV"
      },
      "execution_count": 12,
      "outputs": []
    },
    {
      "cell_type": "code",
      "source": [
        "import pandas as pd\n",
        "\n",
        "# Extract F1-Score and AUC for each method\n",
        "results = {\n",
        "    \"Technique\": [\"Original\", \"Random Oversampling\", \"Random Undersampling\", \"SMOTE\", \"Class Weighting\"],\n",
        "    \"F1-Score\": [\n",
        "        original_report[\"weighted avg\"][\"f1-score\"],\n",
        "        ros_report[\"weighted avg\"][\"f1-score\"],\n",
        "        rus_report[\"weighted avg\"][\"f1-score\"],\n",
        "        smote_report[\"weighted avg\"][\"f1-score\"],\n",
        "        class_weight_report[\"weighted avg\"][\"f1-score\"]\n",
        "    ],\n",
        "    \"AUC\": [original_auc, ros_auc, rus_auc, smote_auc, class_weight_auc]\n",
        "}\n",
        "\n",
        "results_df = pd.DataFrame(results)\n",
        "print(results_df)\n"
      ],
      "metadata": {
        "colab": {
          "base_uri": "https://localhost:8080/"
        },
        "id": "hQBrU5FrLsuL",
        "outputId": "29646ae9-2fd7-48f3-f29f-9ff149f1bed4"
      },
      "execution_count": 13,
      "outputs": [
        {
          "output_type": "stream",
          "name": "stdout",
          "text": [
            "              Technique  F1-Score       AUC\n",
            "0              Original  0.955801  0.997707\n",
            "1   Random Oversampling  0.973621  0.995742\n",
            "2  Random Undersampling  0.973621  0.997380\n",
            "3                 SMOTE  0.964738  0.997380\n",
            "4       Class Weighting  0.973621  0.997707\n"
          ]
        }
      ]
    }
  ]
}