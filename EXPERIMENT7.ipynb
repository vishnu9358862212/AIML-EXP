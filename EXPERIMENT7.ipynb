{
  "nbformat": 4,
  "nbformat_minor": 0,
  "metadata": {
    "colab": {
      "provenance": [],
      "authorship_tag": "ABX9TyMJRIWR/eahV3imHXAfB3K6",
      "include_colab_link": true
    },
    "kernelspec": {
      "name": "python3",
      "display_name": "Python 3"
    },
    "language_info": {
      "name": "python"
    }
  },
  "cells": [
    {
      "cell_type": "markdown",
      "metadata": {
        "id": "view-in-github",
        "colab_type": "text"
      },
      "source": [
        "<a href=\"https://colab.research.google.com/github/vishnu9358862212/AIML-EXP/blob/main/EXPERIMENT7.ipynb\" target=\"_parent\"><img src=\"https://colab.research.google.com/assets/colab-badge.svg\" alt=\"Open In Colab\"/></a>"
      ]
    },
    {
      "cell_type": "code",
      "execution_count": 1,
      "metadata": {
        "colab": {
          "base_uri": "https://localhost:8080/",
          "height": 73
        },
        "id": "3v-xXlq9kEes",
        "outputId": "f3092f21-70c4-4b79-ac02-2923d305b1c6"
      },
      "outputs": [
        {
          "output_type": "display_data",
          "data": {
            "text/plain": [
              "<IPython.core.display.HTML object>"
            ],
            "text/html": [
              "\n",
              "     <input type=\"file\" id=\"files-db93fbbb-0cd0-470a-9efa-64deb5e4f960\" name=\"files[]\" multiple disabled\n",
              "        style=\"border:none\" />\n",
              "     <output id=\"result-db93fbbb-0cd0-470a-9efa-64deb5e4f960\">\n",
              "      Upload widget is only available when the cell has been executed in the\n",
              "      current browser session. Please rerun this cell to enable.\n",
              "      </output>\n",
              "      <script>// Copyright 2017 Google LLC\n",
              "//\n",
              "// Licensed under the Apache License, Version 2.0 (the \"License\");\n",
              "// you may not use this file except in compliance with the License.\n",
              "// You may obtain a copy of the License at\n",
              "//\n",
              "//      http://www.apache.org/licenses/LICENSE-2.0\n",
              "//\n",
              "// Unless required by applicable law or agreed to in writing, software\n",
              "// distributed under the License is distributed on an \"AS IS\" BASIS,\n",
              "// WITHOUT WARRANTIES OR CONDITIONS OF ANY KIND, either express or implied.\n",
              "// See the License for the specific language governing permissions and\n",
              "// limitations under the License.\n",
              "\n",
              "/**\n",
              " * @fileoverview Helpers for google.colab Python module.\n",
              " */\n",
              "(function(scope) {\n",
              "function span(text, styleAttributes = {}) {\n",
              "  const element = document.createElement('span');\n",
              "  element.textContent = text;\n",
              "  for (const key of Object.keys(styleAttributes)) {\n",
              "    element.style[key] = styleAttributes[key];\n",
              "  }\n",
              "  return element;\n",
              "}\n",
              "\n",
              "// Max number of bytes which will be uploaded at a time.\n",
              "const MAX_PAYLOAD_SIZE = 100 * 1024;\n",
              "\n",
              "function _uploadFiles(inputId, outputId) {\n",
              "  const steps = uploadFilesStep(inputId, outputId);\n",
              "  const outputElement = document.getElementById(outputId);\n",
              "  // Cache steps on the outputElement to make it available for the next call\n",
              "  // to uploadFilesContinue from Python.\n",
              "  outputElement.steps = steps;\n",
              "\n",
              "  return _uploadFilesContinue(outputId);\n",
              "}\n",
              "\n",
              "// This is roughly an async generator (not supported in the browser yet),\n",
              "// where there are multiple asynchronous steps and the Python side is going\n",
              "// to poll for completion of each step.\n",
              "// This uses a Promise to block the python side on completion of each step,\n",
              "// then passes the result of the previous step as the input to the next step.\n",
              "function _uploadFilesContinue(outputId) {\n",
              "  const outputElement = document.getElementById(outputId);\n",
              "  const steps = outputElement.steps;\n",
              "\n",
              "  const next = steps.next(outputElement.lastPromiseValue);\n",
              "  return Promise.resolve(next.value.promise).then((value) => {\n",
              "    // Cache the last promise value to make it available to the next\n",
              "    // step of the generator.\n",
              "    outputElement.lastPromiseValue = value;\n",
              "    return next.value.response;\n",
              "  });\n",
              "}\n",
              "\n",
              "/**\n",
              " * Generator function which is called between each async step of the upload\n",
              " * process.\n",
              " * @param {string} inputId Element ID of the input file picker element.\n",
              " * @param {string} outputId Element ID of the output display.\n",
              " * @return {!Iterable<!Object>} Iterable of next steps.\n",
              " */\n",
              "function* uploadFilesStep(inputId, outputId) {\n",
              "  const inputElement = document.getElementById(inputId);\n",
              "  inputElement.disabled = false;\n",
              "\n",
              "  const outputElement = document.getElementById(outputId);\n",
              "  outputElement.innerHTML = '';\n",
              "\n",
              "  const pickedPromise = new Promise((resolve) => {\n",
              "    inputElement.addEventListener('change', (e) => {\n",
              "      resolve(e.target.files);\n",
              "    });\n",
              "  });\n",
              "\n",
              "  const cancel = document.createElement('button');\n",
              "  inputElement.parentElement.appendChild(cancel);\n",
              "  cancel.textContent = 'Cancel upload';\n",
              "  const cancelPromise = new Promise((resolve) => {\n",
              "    cancel.onclick = () => {\n",
              "      resolve(null);\n",
              "    };\n",
              "  });\n",
              "\n",
              "  // Wait for the user to pick the files.\n",
              "  const files = yield {\n",
              "    promise: Promise.race([pickedPromise, cancelPromise]),\n",
              "    response: {\n",
              "      action: 'starting',\n",
              "    }\n",
              "  };\n",
              "\n",
              "  cancel.remove();\n",
              "\n",
              "  // Disable the input element since further picks are not allowed.\n",
              "  inputElement.disabled = true;\n",
              "\n",
              "  if (!files) {\n",
              "    return {\n",
              "      response: {\n",
              "        action: 'complete',\n",
              "      }\n",
              "    };\n",
              "  }\n",
              "\n",
              "  for (const file of files) {\n",
              "    const li = document.createElement('li');\n",
              "    li.append(span(file.name, {fontWeight: 'bold'}));\n",
              "    li.append(span(\n",
              "        `(${file.type || 'n/a'}) - ${file.size} bytes, ` +\n",
              "        `last modified: ${\n",
              "            file.lastModifiedDate ? file.lastModifiedDate.toLocaleDateString() :\n",
              "                                    'n/a'} - `));\n",
              "    const percent = span('0% done');\n",
              "    li.appendChild(percent);\n",
              "\n",
              "    outputElement.appendChild(li);\n",
              "\n",
              "    const fileDataPromise = new Promise((resolve) => {\n",
              "      const reader = new FileReader();\n",
              "      reader.onload = (e) => {\n",
              "        resolve(e.target.result);\n",
              "      };\n",
              "      reader.readAsArrayBuffer(file);\n",
              "    });\n",
              "    // Wait for the data to be ready.\n",
              "    let fileData = yield {\n",
              "      promise: fileDataPromise,\n",
              "      response: {\n",
              "        action: 'continue',\n",
              "      }\n",
              "    };\n",
              "\n",
              "    // Use a chunked sending to avoid message size limits. See b/62115660.\n",
              "    let position = 0;\n",
              "    do {\n",
              "      const length = Math.min(fileData.byteLength - position, MAX_PAYLOAD_SIZE);\n",
              "      const chunk = new Uint8Array(fileData, position, length);\n",
              "      position += length;\n",
              "\n",
              "      const base64 = btoa(String.fromCharCode.apply(null, chunk));\n",
              "      yield {\n",
              "        response: {\n",
              "          action: 'append',\n",
              "          file: file.name,\n",
              "          data: base64,\n",
              "        },\n",
              "      };\n",
              "\n",
              "      let percentDone = fileData.byteLength === 0 ?\n",
              "          100 :\n",
              "          Math.round((position / fileData.byteLength) * 100);\n",
              "      percent.textContent = `${percentDone}% done`;\n",
              "\n",
              "    } while (position < fileData.byteLength);\n",
              "  }\n",
              "\n",
              "  // All done.\n",
              "  yield {\n",
              "    response: {\n",
              "      action: 'complete',\n",
              "    }\n",
              "  };\n",
              "}\n",
              "\n",
              "scope.google = scope.google || {};\n",
              "scope.google.colab = scope.google.colab || {};\n",
              "scope.google.colab._files = {\n",
              "  _uploadFiles,\n",
              "  _uploadFilesContinue,\n",
              "};\n",
              "})(self);\n",
              "</script> "
            ]
          },
          "metadata": {}
        },
        {
          "output_type": "stream",
          "name": "stdout",
          "text": [
            "Saving organizations-100.csv to organizations-100.csv\n"
          ]
        }
      ],
      "source": [
        "import pandas as pd\n",
        "from google.colab import files\n",
        "uploaded=files.upload()"
      ]
    },
    {
      "cell_type": "code",
      "source": [
        "import io\n",
        "df=pd.read_csv(io.BytesIO(uploaded['organizations-100.csv']))"
      ],
      "metadata": {
        "id": "Vrnf6a6blcxw"
      },
      "execution_count": 2,
      "outputs": []
    },
    {
      "cell_type": "code",
      "source": [
        "import numpy as np\n",
        "from sklearn.preprocessing import MinMaxScaler, StandardScaler"
      ],
      "metadata": {
        "id": "JonC3PSHmuW0"
      },
      "execution_count": 4,
      "outputs": []
    },
    {
      "cell_type": "markdown",
      "source": [
        "Printing the overview of dataset like-\n",
        "No. of rows , no. of cols\n"
      ],
      "metadata": {
        "id": "I-A9szW5qNDB"
      }
    },
    {
      "cell_type": "code",
      "source": [
        "\n",
        "print(\"Dataset Overview:\")\n",
        "print(f\"Number of rows: {df.shape[0]}\")\n",
        "print(f\"Number of columns: {df.shape[1]}\")\n",
        "print(\"\\nData Types:\")\n",
        "print(df.dtypes)"
      ],
      "metadata": {
        "colab": {
          "base_uri": "https://localhost:8080/"
        },
        "id": "MIJo1crtnCN7",
        "outputId": "9357f299-f114-4aeb-8c21-c1f46d568886"
      },
      "execution_count": 7,
      "outputs": [
        {
          "output_type": "stream",
          "name": "stdout",
          "text": [
            "Dataset Overview:\n",
            "Number of rows: 100\n",
            "Number of columns: 9\n",
            "\n",
            "Data Types:\n",
            "Index                   int64\n",
            "Organization Id        object\n",
            "Name                   object\n",
            "Website                object\n",
            "Country                object\n",
            "Description            object\n",
            "Founded                 int64\n",
            "Industry               object\n",
            "Number of employees     int64\n",
            "dtype: object\n"
          ]
        }
      ]
    },
    {
      "cell_type": "markdown",
      "source": [
        "Data Preprocessing: Identifying Numerical and Categorical Columns"
      ],
      "metadata": {
        "id": "mczFwACUqozp"
      }
    },
    {
      "cell_type": "code",
      "source": [
        "numerical_cols = df.select_dtypes(include=np.number).columns\n",
        "\n",
        "print(\"\\nNumerical Columns:\", numerical_cols.tolist())"
      ],
      "metadata": {
        "colab": {
          "base_uri": "https://localhost:8080/"
        },
        "id": "fufHSMTwnlI0",
        "outputId": "5639d47f-b757-4261-fe22-14fe37695845"
      },
      "execution_count": 9,
      "outputs": [
        {
          "output_type": "stream",
          "name": "stdout",
          "text": [
            "\n",
            "Numerical Columns: ['Index', 'Founded', 'Number of employees']\n"
          ]
        }
      ]
    },
    {
      "cell_type": "code",
      "source": [
        "categorical_cols = df.select_dtypes(exclude=np.number).columns\n",
        "\n",
        "print(\"Categorical Columns:\", categorical_cols.tolist())"
      ],
      "metadata": {
        "colab": {
          "base_uri": "https://localhost:8080/"
        },
        "id": "lfvB4Kqxnyvb",
        "outputId": "eaa02f2e-ea92-48fc-bd10-7af9bc72c89a"
      },
      "execution_count": 11,
      "outputs": [
        {
          "output_type": "stream",
          "name": "stdout",
          "text": [
            "Categorical Columns: ['Organization Id', 'Name', 'Website', 'Country', 'Description', 'Industry']\n"
          ]
        }
      ]
    },
    {
      "cell_type": "markdown",
      "source": [
        "Feature Scaling: Choosing Min-Max Scaling or Z-Score Scaling"
      ],
      "metadata": {
        "id": "Kw3kaqMKqy93"
      }
    },
    {
      "cell_type": "code",
      "source": [
        "scaler = MinMaxScaler()\n",
        "dataset_scaled = df.copy()\n",
        "dataset_scaled[numerical_cols] = scaler.fit_transform(dataset_scaled[numerical_cols])"
      ],
      "metadata": {
        "id": "YC3pA8nZn5kZ"
      },
      "execution_count": 12,
      "outputs": []
    },
    {
      "cell_type": "code",
      "source": [
        "print(\"\\nNumerical Features After Scaling:\")\n",
        "print(dataset_scaled[numerical_cols].head())"
      ],
      "metadata": {
        "colab": {
          "base_uri": "https://localhost:8080/"
        },
        "id": "wGDQmnLAoPy3",
        "outputId": "485f944f-e18a-449e-bf0b-c284d42df001"
      },
      "execution_count": 15,
      "outputs": [
        {
          "output_type": "stream",
          "name": "stdout",
          "text": [
            "\n",
            "Numerical Features After Scaling:\n",
            "      Index   Founded  Number of employees\n",
            "0  0.000000  0.392157             0.334256\n",
            "1  0.010101  0.882353             0.483246\n",
            "2  0.020202  0.019608             0.517574\n",
            "3  0.030303  0.666667             0.070192\n",
            "4  0.040404  0.411765             0.782252\n"
          ]
        }
      ]
    },
    {
      "cell_type": "markdown",
      "source": [
        "Encoding the Categorical Columns"
      ],
      "metadata": {
        "id": "NktKUt9Gq937"
      }
    },
    {
      "cell_type": "code",
      "source": [
        "dataset_encoded = pd.get_dummies(dataset_scaled, columns=categorical_cols, drop_first=True)"
      ],
      "metadata": {
        "id": "G4tFAp7hodPq"
      },
      "execution_count": 16,
      "outputs": []
    },
    {
      "cell_type": "code",
      "source": [
        "print(\"\\nDataset After One-Hot Encoding:\")\n",
        "print(dataset_encoded.head())"
      ],
      "metadata": {
        "colab": {
          "base_uri": "https://localhost:8080/"
        },
        "id": "qKQMiwRGpX7c",
        "outputId": "bd44aca5-d2fe-4c5e-dbd8-7aa9959ad0a6"
      },
      "execution_count": 19,
      "outputs": [
        {
          "output_type": "stream",
          "name": "stdout",
          "text": [
            "\n",
            "Dataset After One-Hot Encoding:\n",
            "      Index   Founded  Number of employees  Organization Id_0B4F93aA06ED03e  \\\n",
            "0  0.000000  0.392157             0.334256                            False   \n",
            "1  0.010101  0.882353             0.483246                            False   \n",
            "2  0.020202  0.019608             0.517574                            False   \n",
            "3  0.030303  0.666667             0.070192                            False   \n",
            "4  0.040404  0.411765             0.782252                            False   \n",
            "\n",
            "   Organization Id_0a0bfFbBbB8eC7c  Organization Id_0bFED1ADAE4bcC1  \\\n",
            "0                            False                            False   \n",
            "1                            False                            False   \n",
            "2                            False                             True   \n",
            "3                            False                            False   \n",
            "4                            False                            False   \n",
            "\n",
            "   Organization Id_19E3a5Bf6dBDc4F  Organization Id_1eD64cFe986BBbE  \\\n",
            "0                            False                            False   \n",
            "1                            False                            False   \n",
            "2                            False                            False   \n",
            "3                            False                            False   \n",
            "4                            False                            False   \n",
            "\n",
            "   Organization Id_208044AC2fe52F3  Organization Id_219233e8aFF1BC3  ...  \\\n",
            "0                            False                            False  ...   \n",
            "1                            False                            False  ...   \n",
            "2                            False                            False  ...   \n",
            "3                            False                            False  ...   \n",
            "4                            False                            False  ...   \n",
            "\n",
            "   Industry_Religious Institutions  Industry_Semiconductors  \\\n",
            "0                            False                    False   \n",
            "1                            False                    False   \n",
            "2                            False                    False   \n",
            "3                            False                    False   \n",
            "4                            False                    False   \n",
            "\n",
            "   Industry_Telecommunications  Industry_Textiles  Industry_Transportation  \\\n",
            "0                        False              False                    False   \n",
            "1                        False              False                    False   \n",
            "2                        False              False                    False   \n",
            "3                        False              False                    False   \n",
            "4                        False              False                     True   \n",
            "\n",
            "   Industry_Utilities  Industry_Venture Capital / VC  Industry_Wholesale  \\\n",
            "0               False                          False               False   \n",
            "1               False                          False               False   \n",
            "2               False                          False               False   \n",
            "3               False                          False               False   \n",
            "4               False                          False               False   \n",
            "\n",
            "   Industry_Wireless  Industry_Writing / Editing  \n",
            "0              False                       False  \n",
            "1              False                       False  \n",
            "2              False                       False  \n",
            "3              False                       False  \n",
            "4              False                       False  \n",
            "\n",
            "[5 rows x 553 columns]\n"
          ]
        }
      ]
    },
    {
      "cell_type": "markdown",
      "source": [
        "Output Comparison: Before and After Preprocessing"
      ],
      "metadata": {
        "id": "zCwCEXYHrLwp"
      }
    },
    {
      "cell_type": "code",
      "source": [
        "print(\"\\nOriginal Dataset (First 5 Rows):\")\n",
        "print(df.head())"
      ],
      "metadata": {
        "colab": {
          "base_uri": "https://localhost:8080/"
        },
        "id": "rH8ySJivpjWA",
        "outputId": "3adeaa68-64b5-4299-9502-ff59972dbc3d"
      },
      "execution_count": 20,
      "outputs": [
        {
          "output_type": "stream",
          "name": "stdout",
          "text": [
            "\n",
            "Original Dataset (First 5 Rows):\n",
            "   Index  Organization Id                     Name  \\\n",
            "0      1  FAB0d41d5b5d22c              Ferrell LLC   \n",
            "1      2  6A7EdDEA9FaDC52  Mckinney, Riley and Day   \n",
            "2      3  0bFED1ADAE4bcC1               Hester Ltd   \n",
            "3      4  2bFC1Be8a4ce42f           Holder-Sellers   \n",
            "4      5  9eE8A6a4Eb96C24              Mayer Group   \n",
            "\n",
            "                          Website           Country  \\\n",
            "0              https://price.net/  Papua New Guinea   \n",
            "1  http://www.hall-buchanan.info/           Finland   \n",
            "2       http://sullivan-reed.com/             China   \n",
            "3             https://becker.com/      Turkmenistan   \n",
            "4          http://www.brewer.com/         Mauritius   \n",
            "\n",
            "                                      Description  Founded  \\\n",
            "0             Horizontal empowering knowledgebase     1990   \n",
            "1             User-centric system-worthy leverage     2015   \n",
            "2                  Switchable scalable moratorium     1971   \n",
            "3  De-engineered systemic artificial intelligence     2004   \n",
            "4              Synchronized needs-based challenge     1991   \n",
            "\n",
            "                      Industry  Number of employees  \n",
            "0                     Plastics                 3498  \n",
            "1  Glass / Ceramics / Concrete                 4952  \n",
            "2                Public Safety                 5287  \n",
            "3                   Automotive                  921  \n",
            "4               Transportation                 7870  \n"
          ]
        }
      ]
    },
    {
      "cell_type": "code",
      "source": [
        "print(\"\\nPreprocessed Dataset (First 5 Rows):\")\n",
        "print(dataset_encoded.head())\n"
      ],
      "metadata": {
        "colab": {
          "base_uri": "https://localhost:8080/"
        },
        "id": "LjNzlp5NprWI",
        "outputId": "74fce6a7-7dd2-4702-9dfa-bebed427f96d"
      },
      "execution_count": 21,
      "outputs": [
        {
          "output_type": "stream",
          "name": "stdout",
          "text": [
            "\n",
            "Preprocessed Dataset (First 5 Rows):\n",
            "      Index   Founded  Number of employees  Organization Id_0B4F93aA06ED03e  \\\n",
            "0  0.000000  0.392157             0.334256                            False   \n",
            "1  0.010101  0.882353             0.483246                            False   \n",
            "2  0.020202  0.019608             0.517574                            False   \n",
            "3  0.030303  0.666667             0.070192                            False   \n",
            "4  0.040404  0.411765             0.782252                            False   \n",
            "\n",
            "   Organization Id_0a0bfFbBbB8eC7c  Organization Id_0bFED1ADAE4bcC1  \\\n",
            "0                            False                            False   \n",
            "1                            False                            False   \n",
            "2                            False                             True   \n",
            "3                            False                            False   \n",
            "4                            False                            False   \n",
            "\n",
            "   Organization Id_19E3a5Bf6dBDc4F  Organization Id_1eD64cFe986BBbE  \\\n",
            "0                            False                            False   \n",
            "1                            False                            False   \n",
            "2                            False                            False   \n",
            "3                            False                            False   \n",
            "4                            False                            False   \n",
            "\n",
            "   Organization Id_208044AC2fe52F3  Organization Id_219233e8aFF1BC3  ...  \\\n",
            "0                            False                            False  ...   \n",
            "1                            False                            False  ...   \n",
            "2                            False                            False  ...   \n",
            "3                            False                            False  ...   \n",
            "4                            False                            False  ...   \n",
            "\n",
            "   Industry_Religious Institutions  Industry_Semiconductors  \\\n",
            "0                            False                    False   \n",
            "1                            False                    False   \n",
            "2                            False                    False   \n",
            "3                            False                    False   \n",
            "4                            False                    False   \n",
            "\n",
            "   Industry_Telecommunications  Industry_Textiles  Industry_Transportation  \\\n",
            "0                        False              False                    False   \n",
            "1                        False              False                    False   \n",
            "2                        False              False                    False   \n",
            "3                        False              False                    False   \n",
            "4                        False              False                     True   \n",
            "\n",
            "   Industry_Utilities  Industry_Venture Capital / VC  Industry_Wholesale  \\\n",
            "0               False                          False               False   \n",
            "1               False                          False               False   \n",
            "2               False                          False               False   \n",
            "3               False                          False               False   \n",
            "4               False                          False               False   \n",
            "\n",
            "   Industry_Wireless  Industry_Writing / Editing  \n",
            "0              False                       False  \n",
            "1              False                       False  \n",
            "2              False                       False  \n",
            "3              False                       False  \n",
            "4              False                       False  \n",
            "\n",
            "[5 rows x 553 columns]\n"
          ]
        }
      ]
    },
    {
      "cell_type": "markdown",
      "source": [
        "Checking the memory and performance"
      ],
      "metadata": {
        "id": "_o6BGQ57rXNn"
      }
    },
    {
      "cell_type": "code",
      "source": [
        "print(\"\\nMemory Usage Comparison:\")\n",
        "original_memory = df.memory_usage(deep=True).sum()\n",
        "processed_memory = dataset_encoded.memory_usage(deep=True).sum()"
      ],
      "metadata": {
        "colab": {
          "base_uri": "https://localhost:8080/"
        },
        "id": "buhtWZ4bpwhm",
        "outputId": "baea4d43-ef5b-4f5a-eae9-9490ef9ee830"
      },
      "execution_count": 23,
      "outputs": [
        {
          "output_type": "stream",
          "name": "stdout",
          "text": [
            "\n",
            "Memory Usage Comparison:\n"
          ]
        }
      ]
    },
    {
      "cell_type": "code",
      "source": [
        "print(f\"Original Dataset Memory Usage: {original_memory / 1024:.2f} KB\")\n",
        "print(f\"Processed Dataset Memory Usage: {processed_memory / 1024:.2f} KB\")"
      ],
      "metadata": {
        "colab": {
          "base_uri": "https://localhost:8080/"
        },
        "id": "6PDyp9ANp502",
        "outputId": "113fa5e1-f2e7-4d61-c8ba-b15a75504ea4"
      },
      "execution_count": 24,
      "outputs": [
        {
          "output_type": "stream",
          "name": "stdout",
          "text": [
            "Original Dataset Memory Usage: 47.34 KB\n",
            "Processed Dataset Memory Usage: 56.18 KB\n"
          ]
        }
      ]
    }
  ]
}